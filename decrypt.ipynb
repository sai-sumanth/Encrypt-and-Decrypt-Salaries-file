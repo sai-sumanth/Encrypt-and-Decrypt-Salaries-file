{
 "cells": [
  {
   "cell_type": "code",
   "execution_count": 3,
   "metadata": {},
   "outputs": [],
   "source": [
    "from cryptography.fernet import Fernet\n",
    "# opening the key\n",
    "with open('filekey.key', 'rb') as filekey:\n",
    "\tkey = filekey.read()\n",
    "    \n",
    "fernet = Fernet(key)\n",
    "\n",
    "# opening the encrypted file\n",
    "with open('encrypt_salaries.csv', 'rb') as enc_file:\n",
    "\tencrypted = enc_file.read()\n",
    "\n",
    "# decrypting the file\n",
    "decrypted = fernet.decrypt(encrypted)\n",
    "\n",
    "# opening the file in write mode and\n",
    "# writing the decrypted data\n",
    "with open('decrypt_salaries.csv', 'wb') as dec_file:\n",
    "\tdec_file.write(decrypted)\n"
   ]
  },
  {
   "cell_type": "code",
   "execution_count": null,
   "metadata": {},
   "outputs": [],
   "source": []
  }
 ],
 "metadata": {
  "kernelspec": {
   "display_name": "Python 3",
   "language": "python",
   "name": "python3"
  },
  "language_info": {
   "codemirror_mode": {
    "name": "ipython",
    "version": 3
   },
   "file_extension": ".py",
   "mimetype": "text/x-python",
   "name": "python",
   "nbconvert_exporter": "python",
   "pygments_lexer": "ipython3",
   "version": "3.8.3"
  }
 },
 "nbformat": 4,
 "nbformat_minor": 4
}
