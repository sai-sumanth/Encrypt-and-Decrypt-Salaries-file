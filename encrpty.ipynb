{
 "cells": [
  {
   "cell_type": "code",
   "execution_count": 2,
   "metadata": {},
   "outputs": [],
   "source": [
    "from cryptography.fernet import Fernet\n",
    "# opening the key\n",
    "with open('filekey.key', 'rb') as filekey:\n",
    "\tkey = filekey.read()\n",
    "\n",
    "# using the generated key\n",
    "fernet = Fernet(key)\n",
    "\n",
    "# opening the original file to encrypt\n",
    "with open('salaries.csv', 'rb') as file:\n",
    "\toriginal = file.read()\n",
    "\t\n",
    "# encrypting the file\n",
    "encrypted = fernet.encrypt(original)\n",
    "\n",
    "# opening the file in write mode and\n",
    "# writing the encrypted data\n",
    "with open('encrypt_salaries.csv', 'wb') as encrypted_file:\n",
    "\tencrypted_file.write(encrypted)"
   ]
  },
  {
   "cell_type": "code",
   "execution_count": null,
   "metadata": {},
   "outputs": [],
   "source": []
  }
 ],
 "metadata": {
  "kernelspec": {
   "display_name": "Python 3",
   "language": "python",
   "name": "python3"
  },
  "language_info": {
   "codemirror_mode": {
    "name": "ipython",
    "version": 3
   },
   "file_extension": ".py",
   "mimetype": "text/x-python",
   "name": "python",
   "nbconvert_exporter": "python",
   "pygments_lexer": "ipython3",
   "version": "3.8.3"
  }
 },
 "nbformat": 4,
 "nbformat_minor": 4
}
